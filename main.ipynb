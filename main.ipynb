{
 "cells": [
  {
   "cell_type": "code",
   "execution_count": 2,
   "id": "087d5d0e",
   "metadata": {},
   "outputs": [
    {
     "name": "stdout",
     "output_type": "stream",
     "text": [
      "Starting the expense categorizer training process,\n"
     ]
    }
   ],
   "source": [
    "import pandas as pd\n",
    "from sklearn.model_selection import train_test_split\n",
    "from sklearn.feature_extraction.text import TfidfVectorizer\n",
    "from sklearn.linear_model import LogisticRegression\n",
    "from sklearn.metrics import classification_report, accuracy_score\n",
    "import joblib\n",
    "import re\n",
    "\n",
    "print(\"Starting the expense categorizer training process,\")"
   ]
  },
  {
   "cell_type": "code",
   "execution_count": 3,
   "id": "d82de8ec",
   "metadata": {},
   "outputs": [
    {
     "data": {
      "text/html": [
       "<div>\n",
       "<style scoped>\n",
       "    .dataframe tbody tr th:only-of-type {\n",
       "        vertical-align: middle;\n",
       "    }\n",
       "\n",
       "    .dataframe tbody tr th {\n",
       "        vertical-align: top;\n",
       "    }\n",
       "\n",
       "    .dataframe thead th {\n",
       "        text-align: right;\n",
       "    }\n",
       "</style>\n",
       "<table border=\"1\" class=\"dataframe\">\n",
       "  <thead>\n",
       "    <tr style=\"text-align: right;\">\n",
       "      <th></th>\n",
       "      <th>Transaction</th>\n",
       "      <th>Category</th>\n",
       "    </tr>\n",
       "  </thead>\n",
       "  <tbody>\n",
       "    <tr>\n",
       "      <th>0</th>\n",
       "      <td>zomato order 250</td>\n",
       "      <td>Food &amp; Dining</td>\n",
       "    </tr>\n",
       "    <tr>\n",
       "      <th>1</th>\n",
       "      <td>swiggy food delivery</td>\n",
       "      <td>Food &amp; Dining</td>\n",
       "    </tr>\n",
       "    <tr>\n",
       "      <th>2</th>\n",
       "      <td>dinner at barbeque nation</td>\n",
       "      <td>Food &amp; Dining</td>\n",
       "    </tr>\n",
       "    <tr>\n",
       "      <th>3</th>\n",
       "      <td>dominos pizza order</td>\n",
       "      <td>Food &amp; Dining</td>\n",
       "    </tr>\n",
       "    <tr>\n",
       "      <th>4</th>\n",
       "      <td>paradise biryani</td>\n",
       "      <td>Food &amp; Dining</td>\n",
       "    </tr>\n",
       "    <tr>\n",
       "      <th>...</th>\n",
       "      <td>...</td>\n",
       "      <td>...</td>\n",
       "    </tr>\n",
       "    <tr>\n",
       "      <th>87</th>\n",
       "      <td>the body shop products</td>\n",
       "      <td>Personal Care</td>\n",
       "    </tr>\n",
       "    <tr>\n",
       "      <th>88</th>\n",
       "      <td>perfume purchase</td>\n",
       "      <td>Personal Care</td>\n",
       "    </tr>\n",
       "    <tr>\n",
       "      <th>89</th>\n",
       "      <td>shaving kit order</td>\n",
       "      <td>Personal Care</td>\n",
       "    </tr>\n",
       "    <tr>\n",
       "      <th>90</th>\n",
       "      <td>supercuts salon</td>\n",
       "      <td>Personal Care</td>\n",
       "    </tr>\n",
       "    <tr>\n",
       "      <th>91</th>\n",
       "      <td>urban company massage</td>\n",
       "      <td>Personal Care</td>\n",
       "    </tr>\n",
       "  </tbody>\n",
       "</table>\n",
       "<p>92 rows × 2 columns</p>\n",
       "</div>"
      ],
      "text/plain": [
       "                  Transaction       Category\n",
       "0            zomato order 250  Food & Dining\n",
       "1        swiggy food delivery  Food & Dining\n",
       "2   dinner at barbeque nation  Food & Dining\n",
       "3         dominos pizza order  Food & Dining\n",
       "4            paradise biryani  Food & Dining\n",
       "..                        ...            ...\n",
       "87     the body shop products  Personal Care\n",
       "88           perfume purchase  Personal Care\n",
       "89          shaving kit order  Personal Care\n",
       "90            supercuts salon  Personal Care\n",
       "91      urban company massage  Personal Care\n",
       "\n",
       "[92 rows x 2 columns]"
      ]
     },
     "execution_count": 3,
     "metadata": {},
     "output_type": "execute_result"
    }
   ],
   "source": [
    "df = pd.read_csv('dataset.csv')\n",
    "df"
   ]
  },
  {
   "cell_type": "code",
   "execution_count": null,
   "id": "ad712491",
   "metadata": {},
   "outputs": [
    {
     "name": "stdout",
     "output_type": "stream",
     "text": [
      "Data after cleaning with pandas:\n",
      "           Transaction           Category    Clean_Transaction\n",
      "0     zomato order 250      Food & Dining         zomato order\n",
      "1      uber ride 300               Travel            uber ride\n",
      "2  lic premium payment  Bills & Utilities  lic premium payment\n"
     ]
    }
   ],
   "source": [
    "df = pd.read_csv('dataset.csv')\n",
    "\n",
    "# text cleaning\n",
    "df['Clean_Transaction'] = (\n",
    "    df['Transaction']\n",
    "    .str.lower()                      # 1. Lowercase text\n",
    "    .str.replace(r'\\d+', '', regex=True) # 2. Remove numbers\n",
    "    .str.replace(r'\\s+', ' ', regex=True) # 3. Replace multiple spaces with one\n",
    "    .str.strip()                      # 4. Remove leading/trailing spaces\n",
    ")\n",
    "\n",
    "print(\"Data after cleaning with pandas:\")\n",
    "print(df)"
   ]
  },
  {
   "cell_type": "code",
   "execution_count": 5,
   "id": "ed8b46e2",
   "metadata": {},
   "outputs": [
    {
     "name": "stdout",
     "output_type": "stream",
     "text": [
      "\n",
      "Shape of TF-IDF matrix: (92, 183)\n"
     ]
    }
   ],
   "source": [
    "# Feature Engineering (TF-IDF) \n",
    "# # Initiaize the TF-IDF Vectorizer\n",
    "tfidf_vectorizer = TfidfVectorizer(stop_words='english', max_features=500)\n",
    "\n",
    "# X-features and y-target vector\n",
    "X = tfidf_vectorizer.fit_transform(df['Clean_Transaction'])\n",
    "y = df['Category']\n",
    "\n",
    "print(f\"\\nShape of TF-IDF matrix: {X.shape}\")"
   ]
  },
  {
   "cell_type": "code",
   "execution_count": 6,
   "id": "876af0e1",
   "metadata": {},
   "outputs": [
    {
     "name": "stdout",
     "output_type": "stream",
     "text": [
      "\n",
      "Training data size: 63 samples\n",
      "Testing data size: 28 samples\n"
     ]
    }
   ],
   "source": [
    "# Train-Test Split\n",
    "# Remove categories with less than 2 samples\n",
    "valid_categories = df['Category'].value_counts()[df['Category'].value_counts() >= 2].index\n",
    "filtered_df = df[df['Category'].isin(valid_categories)]\n",
    "\n",
    "X_filtered = tfidf_vectorizer.transform(filtered_df['Clean_Transaction'])\n",
    "y_filtered = filtered_df['Category']\n",
    "\n",
    "X_train, X_test, y_train, y_test = train_test_split(X_filtered, y_filtered, test_size=0.3, random_state=42, stratify=y_filtered)\n",
    "\n",
    "print(f\"\\nTraining data size: {X_train.shape[0]} samples\")\n",
    "print(f\"Testing data size: {X_test.shape[0]} samples\")"
   ]
  },
  {
   "cell_type": "code",
   "execution_count": 7,
   "id": "2144407e",
   "metadata": {},
   "outputs": [
    {
     "name": "stdout",
     "output_type": "stream",
     "text": [
      "\n",
      "Model training complete.\n"
     ]
    }
   ],
   "source": [
    "# Model Training \n",
    "model = LogisticRegression(random_state=42)\n",
    "model.fit(X_train, y_train)\n",
    "print(\"\\nModel training complete.\")"
   ]
  },
  {
   "cell_type": "code",
   "execution_count": 8,
   "id": "933e5c7e",
   "metadata": {},
   "outputs": [
    {
     "name": "stdout",
     "output_type": "stream",
     "text": [
      "\n",
      "Model Accuracy: 0.3929\n",
      "\n",
      "Classification Report:\n",
      "                   precision    recall  f1-score   support\n",
      "\n",
      "Bills & Utilities       0.33      0.25      0.29         4\n",
      "    Entertainment       1.00      0.25      0.40         4\n",
      "    Food & Dining       0.00      0.00      0.00         4\n",
      "        Groceries       1.00      0.33      0.50         3\n",
      "Health & Wellness       1.00      0.33      0.50         3\n",
      "    Personal Care       1.00      0.50      0.67         2\n",
      "         Shopping       1.00      0.50      0.67         4\n",
      "           Travel       0.21      1.00      0.35         4\n",
      "\n",
      "         accuracy                           0.39        28\n",
      "        macro avg       0.69      0.40      0.42        28\n",
      "     weighted avg       0.65      0.39      0.40        28\n",
      "\n"
     ]
    },
    {
     "name": "stderr",
     "output_type": "stream",
     "text": [
      "c:\\Users\\Satvik singh\\AppData\\Local\\Programs\\Python\\Python312\\Lib\\site-packages\\sklearn\\metrics\\_classification.py:1706: UndefinedMetricWarning: Precision is ill-defined and being set to 0.0 in labels with no predicted samples. Use `zero_division` parameter to control this behavior.\n",
      "  _warn_prf(average, modifier, f\"{metric.capitalize()} is\", result.shape[0])\n",
      "c:\\Users\\Satvik singh\\AppData\\Local\\Programs\\Python\\Python312\\Lib\\site-packages\\sklearn\\metrics\\_classification.py:1706: UndefinedMetricWarning: Precision is ill-defined and being set to 0.0 in labels with no predicted samples. Use `zero_division` parameter to control this behavior.\n",
      "  _warn_prf(average, modifier, f\"{metric.capitalize()} is\", result.shape[0])\n",
      "c:\\Users\\Satvik singh\\AppData\\Local\\Programs\\Python\\Python312\\Lib\\site-packages\\sklearn\\metrics\\_classification.py:1706: UndefinedMetricWarning: Precision is ill-defined and being set to 0.0 in labels with no predicted samples. Use `zero_division` parameter to control this behavior.\n",
      "  _warn_prf(average, modifier, f\"{metric.capitalize()} is\", result.shape[0])\n"
     ]
    }
   ],
   "source": [
    "# --- 5. Model Evaluation ---\n",
    "# Make predictions on the test set\n",
    "y_pred = model.predict(X_test)\n",
    "\n",
    "# Calculate and print evaluation metrics\n",
    "accuracy = accuracy_score(y_test, y_pred)\n",
    "report = classification_report(y_test, y_pred)\n",
    "\n",
    "print(f\"\\nModel Accuracy: {accuracy:.4f}\")\n",
    "print(\"\\nClassification Report:\")\n",
    "print(report)\n"
   ]
  },
  {
   "cell_type": "code",
   "execution_count": 9,
   "id": "ea93edfd",
   "metadata": {},
   "outputs": [
    {
     "name": "stdout",
     "output_type": "stream",
     "text": [
      "\n",
      "Model and vectorizer have been saved as 'expense_model.joblib' and 'tfidf_vectorizer.joblib'\n"
     ]
    }
   ],
   "source": [
    "# --- 6. Save the Model and Vectorizer ---\n",
    "# Save the trained model and the TF-IDF vectorizer for future use\n",
    "joblib.dump(model, 'expense_model.joblib')\n",
    "joblib.dump(tfidf_vectorizer, 'tfidf_vectorizer.joblib')\n",
    "\n",
    "print(\"\\nModel and vectorizer have been saved as 'expense_model.joblib' and 'tfidf_vectorizer.joblib'\")"
   ]
  },
  {
   "cell_type": "code",
   "execution_count": 10,
   "id": "9b5075ba",
   "metadata": {},
   "outputs": [],
   "source": [
    "# --- 7. Prediction Function Example ---\n",
    "def predict_category(transaction_text):\n",
    "    \"\"\"\n",
    "    Predicts the category for a new transaction text.\n",
    "    \"\"\"\n",
    "    # Load the saved model and vectorizer\n",
    "    loaded_model = joblib.load('expense_model.joblib')\n",
    "    loaded_vectorizer = joblib.load('tfidf_vectorizer.joblib')\n",
    "    \n",
    "    # Clean the input text\n",
    "    cleaned_text = clean_text(transaction_text)\n",
    "    \n",
    "    # Vectorize the text using the loaded vectorizer\n",
    "    text_vectorized = loaded_vectorizer.transform([cleaned_text])\n",
    "    \n",
    "    # Predict the category\n",
    "    prediction = loaded_model.predict(text_vectorized)\n",
    "    \n",
    "    return prediction[0]"
   ]
  },
  {
   "cell_type": "code",
   "execution_count": 11,
   "id": "a571a08c",
   "metadata": {},
   "outputs": [
    {
     "name": "stdout",
     "output_type": "stream",
     "text": [
      "\n",
      "--- Testing the prediction function ---\n",
      "'uber ride home 230' is categorized as: Travel\n",
      "'dinner at paradise hotel' is categorized as: Food & Dining\n"
     ]
    }
   ],
   "source": [
    "# --- Example Usage ---\n",
    "print(\"\\n--- Testing the prediction function ---\")\n",
    "new_transaction_1 = \"uber ride home 230\"\n",
    "new_transaction_2 = \"dinner at paradise hotel\"\n",
    "\n",
    "print(f\"'{new_transaction_1}' is categorized as: {predict_category(new_transaction_1)}\")\n",
    "print(f\"'{new_transaction_2}' is categorized as: {predict_category(new_transaction_2)}\")"
   ]
  }
 ],
 "metadata": {
  "kernelspec": {
   "display_name": "Python 3",
   "language": "python",
   "name": "python3"
  },
  "language_info": {
   "codemirror_mode": {
    "name": "ipython",
    "version": 3
   },
   "file_extension": ".py",
   "mimetype": "text/x-python",
   "name": "python",
   "nbconvert_exporter": "python",
   "pygments_lexer": "ipython3",
   "version": "3.12.6"
  }
 },
 "nbformat": 4,
 "nbformat_minor": 5
}
