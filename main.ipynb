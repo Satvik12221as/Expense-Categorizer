{
 "cells": [
  {
   "cell_type": "code",
   "execution_count": 25,
   "id": "087d5d0e",
   "metadata": {},
   "outputs": [
    {
     "name": "stdout",
     "output_type": "stream",
     "text": [
      "Starting the expense categorizer training process,\n"
     ]
    }
   ],
   "source": [
    "import pandas as pd\n",
    "from sklearn.model_selection import train_test_split\n",
    "from sklearn.feature_extraction.text import TfidfVectorizer\n",
    "from sklearn.preprocessing import LabelEncoder\n",
    "from sklearn.naive_bayes import MultinomialNB\n",
    "from typing import Dict , Any\n",
    "from sklearn.metrics import classification_report, accuracy_score\n",
    "import joblib\n",
    "import re\n",
    "\n",
    "print(\"Starting the expense categorizer training process,\")"
   ]
  },
  {
   "cell_type": "code",
   "execution_count": 26,
   "id": "d82de8ec",
   "metadata": {},
   "outputs": [
    {
     "data": {
      "text/html": [
       "<div>\n",
       "<style scoped>\n",
       "    .dataframe tbody tr th:only-of-type {\n",
       "        vertical-align: middle;\n",
       "    }\n",
       "\n",
       "    .dataframe tbody tr th {\n",
       "        vertical-align: top;\n",
       "    }\n",
       "\n",
       "    .dataframe thead th {\n",
       "        text-align: right;\n",
       "    }\n",
       "</style>\n",
       "<table border=\"1\" class=\"dataframe\">\n",
       "  <thead>\n",
       "    <tr style=\"text-align: right;\">\n",
       "      <th></th>\n",
       "      <th>Transaction</th>\n",
       "      <th>Category</th>\n",
       "    </tr>\n",
       "  </thead>\n",
       "  <tbody>\n",
       "    <tr>\n",
       "      <th>0</th>\n",
       "      <td>zomato food order</td>\n",
       "      <td>Food &amp; Dining</td>\n",
       "    </tr>\n",
       "    <tr>\n",
       "      <th>1</th>\n",
       "      <td>swiggy food delivery</td>\n",
       "      <td>Food &amp; Dining</td>\n",
       "    </tr>\n",
       "    <tr>\n",
       "      <th>2</th>\n",
       "      <td>dinner at barbeque nation</td>\n",
       "      <td>Food &amp; Dining</td>\n",
       "    </tr>\n",
       "    <tr>\n",
       "      <th>3</th>\n",
       "      <td>dominos pizza purchase</td>\n",
       "      <td>Food &amp; Dining</td>\n",
       "    </tr>\n",
       "    <tr>\n",
       "      <th>4</th>\n",
       "      <td>paradise biryani house</td>\n",
       "      <td>Food &amp; Dining</td>\n",
       "    </tr>\n",
       "    <tr>\n",
       "      <th>...</th>\n",
       "      <td>...</td>\n",
       "      <td>...</td>\n",
       "    </tr>\n",
       "    <tr>\n",
       "      <th>798</th>\n",
       "      <td>career counseling session fee</td>\n",
       "      <td>Education</td>\n",
       "    </tr>\n",
       "    <tr>\n",
       "      <th>799</th>\n",
       "      <td>payment for online assessment</td>\n",
       "      <td>Education</td>\n",
       "    </tr>\n",
       "    <tr>\n",
       "      <th>800</th>\n",
       "      <td>subscription to educational magazine</td>\n",
       "      <td>Education</td>\n",
       "    </tr>\n",
       "    <tr>\n",
       "      <th>801</th>\n",
       "      <td>payment for skill development course</td>\n",
       "      <td>Education</td>\n",
       "    </tr>\n",
       "    <tr>\n",
       "      <th>802</th>\n",
       "      <td>school extracurricular activity fee</td>\n",
       "      <td>Education</td>\n",
       "    </tr>\n",
       "  </tbody>\n",
       "</table>\n",
       "<p>803 rows × 2 columns</p>\n",
       "</div>"
      ],
      "text/plain": [
       "                              Transaction       Category\n",
       "0                       zomato food order  Food & Dining\n",
       "1                    swiggy food delivery  Food & Dining\n",
       "2               dinner at barbeque nation  Food & Dining\n",
       "3                  dominos pizza purchase  Food & Dining\n",
       "4                  paradise biryani house  Food & Dining\n",
       "..                                    ...            ...\n",
       "798         career counseling session fee      Education\n",
       "799         payment for online assessment      Education\n",
       "800  subscription to educational magazine      Education\n",
       "801  payment for skill development course      Education\n",
       "802   school extracurricular activity fee      Education\n",
       "\n",
       "[803 rows x 2 columns]"
      ]
     },
     "execution_count": 26,
     "metadata": {},
     "output_type": "execute_result"
    }
   ],
   "source": [
    "df = pd.read_csv('data/dataset.csv')\n",
    "df"
   ]
  },
  {
   "cell_type": "code",
   "execution_count": 27,
   "id": "ad712491",
   "metadata": {},
   "outputs": [
    {
     "name": "stdout",
     "output_type": "stream",
     "text": [
      "                 Transaction       Category          Clean_Transaction\n",
      "0          zomato food order  Food & Dining          zomato food order\n",
      "1       swiggy food delivery  Food & Dining       swiggy food delivery\n",
      "2  dinner at barbeque nation  Food & Dining  dinner at barbeque nation\n",
      "3     dominos pizza purchase  Food & Dining     dominos pizza purchase\n",
      "4     paradise biryani house  Food & Dining     paradise biryani house\n"
     ]
    }
   ],
   "source": [
    "df = pd.read_csv('data/dataset.csv')\n",
    "\n",
    "# text cleaning\n",
    "df['Clean_Transaction'] = (\n",
    "    df['Transaction'] \n",
    "    .str.lower()                           # 1. Lowercase text\n",
    "    .str.replace(r'\\d+', '', regex=True)   # 2. Remove numbers\n",
    "    .str.replace(r'\\s+', ' ', regex=True)  # 3. Replace multiple spaces with one\n",
    "    .str.strip()                           # 4. Remove spaces\n",
    ")\n",
    "print(df.head())"
   ]
  },
  {
   "cell_type": "code",
   "execution_count": null,
   "id": "ed8b46e2",
   "metadata": {},
   "outputs": [
    {
     "name": "stdout",
     "output_type": "stream",
     "text": [
      "\n",
      "Shape of TF-IDF matrix: (803, 500)\n"
     ]
    }
   ],
   "source": [
    "# Initiaize the TF-IDF Vectorizer\n",
    "tfidf_vectorizer = TfidfVectorizer(stop_words='english', max_features=500)\n",
    "\n",
    "# X-features and y-target vector\n",
    "X = tfidf_vectorizer.fit_transform(df['Clean_Transaction'])\n",
    "y = df['Category']\n",
    "\n",
    "print(f\"\\nShape of TF-IDF matrix: {X.shape}\")"
   ]
  },
  {
   "cell_type": "code",
   "execution_count": 29,
   "id": "876af0e1",
   "metadata": {},
   "outputs": [
    {
     "name": "stdout",
     "output_type": "stream",
     "text": [
      "\n",
      "Training data size: 562 samples\n",
      "Testing data size: 241 samples\n"
     ]
    }
   ],
   "source": [
    "# Train-Test Split\n",
    "# remove categories with less than 2 samples\n",
    "valid_categories = df['Category'].value_counts()[df['Category'].value_counts() >= 2].index\n",
    "filtered_df = df[df['Category'].isin(valid_categories)]\n",
    "\n",
    "X_filtered = tfidf_vectorizer.transform(filtered_df['Clean_Transaction'])\n",
    "y_filtered = filtered_df['Category']\n",
    "\n",
    "X_train, X_test, y_train, y_test = train_test_split(X_filtered, y_filtered, test_size=0.3, random_state=42, stratify=y_filtered)\n",
    "\n",
    "print(f\"\\nTraining data size: {X_train.shape[0]} samples\")\n",
    "print(f\"Testing data size: {X_test.shape[0]} samples\")"
   ]
  },
  {
   "cell_type": "code",
   "execution_count": 30,
   "id": "b9f424b6",
   "metadata": {},
   "outputs": [
    {
     "name": "stdout",
     "output_type": "stream",
     "text": [
      "Model training complete using MultinomialNB.\n"
     ]
    }
   ],
   "source": [
    "model = MultinomialNB()\n",
    "\n",
    "# The rest of the code is exactly the same\n",
    "model.fit(X_train, y_train)\n",
    "print(\"Model training complete using MultinomialNB.\")"
   ]
  },
  {
   "cell_type": "code",
   "execution_count": 31,
   "id": "933e5c7e",
   "metadata": {},
   "outputs": [
    {
     "name": "stdout",
     "output_type": "stream",
     "text": [
      "\n",
      "Model Accuracy: 0.6680\n",
      "\n",
      "Classification report:\n",
      "                   precision    recall  f1-score   support\n",
      "\n",
      "Bills & Utilities       0.79      0.70      0.75        27\n",
      "        Education       0.57      0.62      0.59        26\n",
      "    Entertainment       0.74      0.65      0.69        26\n",
      "    Food & Dining       0.62      1.00      0.77        31\n",
      "        Groceries       0.78      0.56      0.65        25\n",
      "Health & Wellness       0.65      0.52      0.58        25\n",
      "    Personal Care       0.81      0.54      0.65        24\n",
      "         Shopping       0.48      0.55      0.52        29\n",
      "           Travel       0.76      0.79      0.77        28\n",
      "\n",
      "         accuracy                           0.67       241\n",
      "        macro avg       0.69      0.66      0.66       241\n",
      "     weighted avg       0.69      0.67      0.66       241\n",
      "\n"
     ]
    }
   ],
   "source": [
    "# Model Evaluation \n",
    "y_pred = model.predict(X_test)\n",
    "\n",
    "# Calculate and print evaluation metrics\n",
    "accuracy = accuracy_score(y_test, y_pred)\n",
    "report = classification_report(y_test, y_pred)\n",
    "\n",
    "print(f\"\\nModel Accuracy: {accuracy:.4f}\")\n",
    "print(\"\\nClassification report:\")\n",
    "print(report)\n"
   ]
  },
  {
   "cell_type": "code",
   "execution_count": 32,
   "id": "489fd6ce",
   "metadata": {},
   "outputs": [
    {
     "data": {
      "image/png": "[encoded data removed]",
      "text/plain": [
       "<Figure size 700x500 with 2 Axes>"
      ]
     },
     "metadata": {},
     "output_type": "display_data"
    }
   ],
   "source": [
    "from sklearn.metrics import confusion_matrix\n",
    "import seaborn as sns\n",
    "import matplotlib.pyplot as plt\n",
    "\n",
    "cm = confusion_matrix(y_test, y_pred, labels=model.classes_)\n",
    "\n",
    "# Plot confusion matrix\n",
    "plt.figure(figsize=(7, 5))\n",
    "sns.heatmap(cm, annot=True, fmt='d', cmap='Blues', xticklabels=model.classes_, yticklabels=model.classes_)\n",
    "plt.xlabel('Predicted')\n",
    "plt.ylabel('Actual')\n",
    "plt.title('Confusion Matrix')\n",
    "plt.show()"
   ]
  },
  {
   "cell_type": "code",
   "execution_count": 33,
   "id": "ea93edfd",
   "metadata": {},
   "outputs": [
    {
     "name": "stdout",
     "output_type": "stream",
     "text": [
      "\n",
      "Model and vectorizer have been saved as 'expense_model.joblib' and 'tfidf_vectorizer.joblib'\n"
     ]
    }
   ],
   "source": [
    "# Save the Model and Vectorizer \n",
    "joblib.dump(model, 'expense_model.joblib')\n",
    "joblib.dump(tfidf_vectorizer, 'tfidf_vectorizer.joblib')\n",
    "\n",
    "print(\"\\nModel and vectorizer have been saved as 'expense_model.joblib' and 'tfidf_vectorizer.joblib'\")"
   ]
  },
  {
   "cell_type": "code",
   "execution_count": 34,
   "id": "9b5075ba",
   "metadata": {},
   "outputs": [],
   "source": [
    "# Prediction Function Example \n",
    "def predict_category(transaction_text):\n",
    "    \n",
    "    \"\"\" Predicts the category for a new transaction text.\"\"\"\n",
    "    # Load the saved model and vectorizer\n",
    "    loaded_model = joblib.load('expense_model.joblib')\n",
    "    loaded_vectorizer = joblib.load('tfidf_vectorizer.joblib')\n",
    "    \n",
    "    # Clean the input text\n",
    "    cleaned_text = clean_text(transaction_text)\n",
    "    \n",
    "    # Vectorize the text using the loaded vectorizer\n",
    "    text_vectorized = loaded_vectorizer.transform([cleaned_text])\n",
    "    \n",
    "    # Predict the category\n",
    "    prediction = loaded_model.predict(text_vectorized)\n",
    "    \n",
    "    return prediction[0]"
   ]
  },
  {
   "cell_type": "code",
   "execution_count": 35,
   "id": "a571a08c",
   "metadata": {},
   "outputs": [
    {
     "name": "stdout",
     "output_type": "stream",
     "text": [
      "\n",
      "Testing the prediction function\n",
      "'uber ride home 230' is categorized as: Travel\n",
      "'dinner at paradise hotel' is categorized as: Food & Dining\n"
     ]
    }
   ],
   "source": [
    "# Example Usage \n",
    "print(\"\\nTesting the prediction function\")\n",
    "new_transaction_1 = \"uber ride home 230\"\n",
    "new_transaction_2 = \"dinner at paradise hotel\"\n",
    "new_transaction_3 = \"grocery shopping at walmart\"\n",
    "\n",
    "def clean_text(text):\n",
    "    text = text.lower()                           # 1. Lowercase text\n",
    "    text = re.sub(r'\\d+', '', text)               # 2. Remove numbers\n",
    "    text = re.sub(r'\\s+', ' ', text)              # 3. Replace multiple spaces with one\n",
    "    text = text.strip()                           # 4. Remove leading/trailing spaces\n",
    "    return text\n",
    "print(f\"'{new_transaction_1}' is categorized as: {predict_category(new_transaction_1)}\")\n",
    "print(f\"'{new_transaction_2}' is categorized as: {predict_category(new_transaction_2)}\")"
   ]
  }
 ],
 "metadata": {
  "kernelspec": {
   "display_name": "Python 3",
   "language": "python",
   "name": "python3"
  },
  "language_info": {
   "codemirror_mode": {
    "name": "ipython",
    "version": 3
   },
   "file_extension": ".py",
   "mimetype": "text/x-python",
   "name": "python",
   "nbconvert_exporter": "python",
   "pygments_lexer": "ipython3",
   "version": "3.12.6"
  }
 },
 "nbformat": 4,
 "nbformat_minor": 5
}
