{
 "cells": [
  {
   "cell_type": "code",
   "execution_count": 2,
   "id": "087d5d0e",
   "metadata": {},
   "outputs": [
    {
     "name": "stdout",
     "output_type": "stream",
     "text": [
      "Starting the expense categorizer training process,\n"
     ]
    }
   ],
   "source": [
    "import pandas as pd\n",
    "from sklearn.model_selection import train_test_split\n",
    "from sklearn.feature_extraction.text import TfidfVectorizer\n",
    "from sklearn.preprocessing import LabelEncoder\n",
    "from sklearn.naive_bayes import MultinomialNB\n",
    "from typing import Dict , Any\n",
    "from sklearn.metrics import classification_report, accuracy_score\n",
    "import joblib\n",
    "import re\n",
    "\n",
    "print(\"Starting the expense categorizer training process,\")"
   ]
  },
  {
   "cell_type": "code",
   "execution_count": 4,
   "id": "d82de8ec",
   "metadata": {},
   "outputs": [
    {
     "data": {
      "text/html": [
       "<div>\n",
       "<style scoped>\n",
       "    .dataframe tbody tr th:only-of-type {\n",
       "        vertical-align: middle;\n",
       "    }\n",
       "\n",
       "    .dataframe tbody tr th {\n",
       "        vertical-align: top;\n",
       "    }\n",
       "\n",
       "    .dataframe thead th {\n",
       "        text-align: right;\n",
       "    }\n",
       "</style>\n",
       "<table border=\"1\" class=\"dataframe\">\n",
       "  <thead>\n",
       "    <tr style=\"text-align: right;\">\n",
       "      <th></th>\n",
       "      <th>Transaction</th>\n",
       "      <th>Category</th>\n",
       "    </tr>\n",
       "  </thead>\n",
       "  <tbody>\n",
       "    <tr>\n",
       "      <th>0</th>\n",
       "      <td>zomato food order</td>\n",
       "      <td>Food &amp; Dining</td>\n",
       "    </tr>\n",
       "    <tr>\n",
       "      <th>1</th>\n",
       "      <td>swiggy food delivery</td>\n",
       "      <td>Food &amp; Dining</td>\n",
       "    </tr>\n",
       "    <tr>\n",
       "      <th>2</th>\n",
       "      <td>dinner at barbeque nation</td>\n",
       "      <td>Food &amp; Dining</td>\n",
       "    </tr>\n",
       "    <tr>\n",
       "      <th>3</th>\n",
       "      <td>dominos pizza purchase</td>\n",
       "      <td>Food &amp; Dining</td>\n",
       "    </tr>\n",
       "    <tr>\n",
       "      <th>4</th>\n",
       "      <td>paradise biryani house</td>\n",
       "      <td>Food &amp; Dining</td>\n",
       "    </tr>\n",
       "    <tr>\n",
       "      <th>...</th>\n",
       "      <td>...</td>\n",
       "      <td>...</td>\n",
       "    </tr>\n",
       "    <tr>\n",
       "      <th>150</th>\n",
       "      <td>chegg subscription</td>\n",
       "      <td>Education</td>\n",
       "    </tr>\n",
       "    <tr>\n",
       "      <th>151</th>\n",
       "      <td>online coding class fee</td>\n",
       "      <td>Education</td>\n",
       "    </tr>\n",
       "    <tr>\n",
       "      <th>152</th>\n",
       "      <td>library membership fee</td>\n",
       "      <td>Education</td>\n",
       "    </tr>\n",
       "    <tr>\n",
       "      <th>153</th>\n",
       "      <td>educational seminar ticket</td>\n",
       "      <td>Education</td>\n",
       "    </tr>\n",
       "    <tr>\n",
       "      <th>154</th>\n",
       "      <td>byjus</td>\n",
       "      <td>Education</td>\n",
       "    </tr>\n",
       "  </tbody>\n",
       "</table>\n",
       "<p>155 rows × 2 columns</p>\n",
       "</div>"
      ],
      "text/plain": [
       "                    Transaction       Category\n",
       "0             zomato food order  Food & Dining\n",
       "1          swiggy food delivery  Food & Dining\n",
       "2     dinner at barbeque nation  Food & Dining\n",
       "3        dominos pizza purchase  Food & Dining\n",
       "4        paradise biryani house  Food & Dining\n",
       "..                          ...            ...\n",
       "150          chegg subscription      Education\n",
       "151     online coding class fee      Education\n",
       "152      library membership fee      Education\n",
       "153  educational seminar ticket      Education\n",
       "154                       byjus      Education\n",
       "\n",
       "[155 rows x 2 columns]"
      ]
     },
     "execution_count": 4,
     "metadata": {},
     "output_type": "execute_result"
    }
   ],
   "source": [
    "df = pd.read_csv('data/dataset.csv')\n",
    "df"
   ]
  },
  {
   "cell_type": "code",
   "execution_count": 6,
   "id": "ad712491",
   "metadata": {},
   "outputs": [
    {
     "name": "stdout",
     "output_type": "stream",
     "text": [
      "                 Transaction       Category          Clean_Transaction\n",
      "0          zomato food order  Food & Dining          zomato food order\n",
      "1       swiggy food delivery  Food & Dining       swiggy food delivery\n",
      "2  dinner at barbeque nation  Food & Dining  dinner at barbeque nation\n",
      "3     dominos pizza purchase  Food & Dining     dominos pizza purchase\n",
      "4     paradise biryani house  Food & Dining     paradise biryani house\n"
     ]
    }
   ],
   "source": [
    "df = pd.read_csv('data/dataset.csv')\n",
    "\n",
    "# text cleaning\n",
    "df['Clean_Transaction'] = (\n",
    "    df['Transaction'] \n",
    "    .str.lower()                           # 1. Lowercase text\n",
    "    .str.replace(r'\\d+', '', regex=True)   # 2. Remove numbers\n",
    "    .str.replace(r'\\s+', ' ', regex=True)  # 3. Replace multiple spaces with one\n",
    "    .str.strip()                           # 4. Remove spaces\n",
    ")\n",
    "print(df.head())"
   ]
  },
  {
   "cell_type": "code",
   "execution_count": 7,
   "id": "ed8b46e2",
   "metadata": {},
   "outputs": [
    {
     "name": "stdout",
     "output_type": "stream",
     "text": [
      "\n",
      "Shape of TF-IDF matrix: (155, 312)\n"
     ]
    }
   ],
   "source": [
    "# Feature Engineering (TF-IDF) \n",
    "# Initiaize the TF-IDF Vectorizer\n",
    "tfidf_vectorizer = TfidfVectorizer(stop_words='english', max_features=500)\n",
    "\n",
    "# X-features and y-target vector\n",
    "X = tfidf_vectorizer.fit_transform(df['Clean_Transaction'])\n",
    "y = df['Category']\n",
    "\n",
    "print(f\"\\nShape of TF-IDF matrix: {X.shape}\")"
   ]
  },
  {
   "cell_type": "code",
   "execution_count": 8,
   "id": "876af0e1",
   "metadata": {},
   "outputs": [
    {
     "name": "stdout",
     "output_type": "stream",
     "text": [
      "\n",
      "Training data size: 108 samples\n",
      "Testing data size: 47 samples\n"
     ]
    }
   ],
   "source": [
    "# Train-Test Split\n",
    "# remove categories with less than 2 samples\n",
    "valid_categories = df['Category'].value_counts()[df['Category'].value_counts() >= 2].index\n",
    "filtered_df = df[df['Category'].isin(valid_categories)]\n",
    "\n",
    "X_filtered = tfidf_vectorizer.transform(filtered_df['Clean_Transaction'])\n",
    "y_filtered = filtered_df['Category']\n",
    "\n",
    "X_train, X_test, y_train, y_test = train_test_split(X_filtered, y_filtered, test_size=0.3, random_state=42, stratify=y_filtered)\n",
    "\n",
    "print(f\"\\nTraining data size: {X_train.shape[0]} samples\")\n",
    "print(f\"Testing data size: {X_test.shape[0]} samples\")"
   ]
  },
  {
   "cell_type": "code",
   "execution_count": 10,
   "id": "b9f424b6",
   "metadata": {},
   "outputs": [
    {
     "name": "stdout",
     "output_type": "stream",
     "text": [
      "Model training complete using MultinomialNB.\n"
     ]
    }
   ],
   "source": [
    "model = MultinomialNB()\n",
    "\n",
    "# The rest of the code is exactly the same\n",
    "model.fit(X_train, y_train)\n",
    "print(\"Model training complete using MultinomialNB.\")"
   ]
  },
  {
   "cell_type": "code",
   "execution_count": 11,
   "id": "933e5c7e",
   "metadata": {},
   "outputs": [
    {
     "name": "stdout",
     "output_type": "stream",
     "text": [
      "\n",
      "Model Accuracy: 0.5532\n",
      "\n",
      "Classification report:\n",
      "                   precision    recall  f1-score   support\n",
      "\n",
      "Bills & Utilities       0.75      0.60      0.67         5\n",
      "        Education       0.00      0.00      0.00         4\n",
      "    Entertainment       0.67      0.40      0.50         5\n",
      "    Food & Dining       0.45      0.71      0.56         7\n",
      "        Groceries       1.00      0.50      0.67         4\n",
      "Health & Wellness       0.00      0.00      0.00         4\n",
      "    Personal Care       1.00      0.25      0.40         4\n",
      "         Shopping       0.43      0.86      0.57         7\n",
      "           Travel       0.58      1.00      0.74         7\n",
      "\n",
      "         accuracy                           0.55        47\n",
      "        macro avg       0.54      0.48      0.46        47\n",
      "     weighted avg       0.54      0.55      0.49        47\n",
      "\n"
     ]
    },
    {
     "name": "stderr",
     "output_type": "stream",
     "text": [
      "c:\\Users\\Satvik singh\\AppData\\Local\\Programs\\Python\\Python312\\Lib\\site-packages\\sklearn\\metrics\\_classification.py:1706: UndefinedMetricWarning: Precision is ill-defined and being set to 0.0 in labels with no predicted samples. Use `zero_division` parameter to control this behavior.\n",
      "  _warn_prf(average, modifier, f\"{metric.capitalize()} is\", result.shape[0])\n",
      "c:\\Users\\Satvik singh\\AppData\\Local\\Programs\\Python\\Python312\\Lib\\site-packages\\sklearn\\metrics\\_classification.py:1706: UndefinedMetricWarning: Precision is ill-defined and being set to 0.0 in labels with no predicted samples. Use `zero_division` parameter to control this behavior.\n",
      "  _warn_prf(average, modifier, f\"{metric.capitalize()} is\", result.shape[0])\n",
      "c:\\Users\\Satvik singh\\AppData\\Local\\Programs\\Python\\Python312\\Lib\\site-packages\\sklearn\\metrics\\_classification.py:1706: UndefinedMetricWarning: Precision is ill-defined and being set to 0.0 in labels with no predicted samples. Use `zero_division` parameter to control this behavior.\n",
      "  _warn_prf(average, modifier, f\"{metric.capitalize()} is\", result.shape[0])\n"
     ]
    }
   ],
   "source": [
    "# Model Evaluation \n",
    "y_pred = model.predict(X_test)\n",
    "\n",
    "# Calculate and print evaluation metrics\n",
    "accuracy = accuracy_score(y_test, y_pred)\n",
    "report = classification_report(y_test, y_pred)\n",
    "\n",
    "print(f\"\\nModel Accuracy: {accuracy:.4f}\")\n",
    "print(\"\\nClassification report:\")\n",
    "print(report)\n"
   ]
  },
  {
   "cell_type": "code",
   "execution_count": 14,
   "id": "489fd6ce",
   "metadata": {},
   "outputs": [
    {
     "data": {
      "image/png": "[encoded data removed]",
      "text/plain": [
       "<Figure size 700x500 with 2 Axes>"
      ]
     },
     "metadata": {},
     "output_type": "display_data"
    }
   ],
   "source": [
    "from sklearn.metrics import confusion_matrix\n",
    "import seaborn as sns\n",
    "import matplotlib.pyplot as plt\n",
    "\n",
    "cm = confusion_matrix(y_test, y_pred, labels=model.classes_)\n",
    "\n",
    "# Plot confusion matrix\n",
    "plt.figure(figsize=(7, 5))\n",
    "sns.heatmap(cm, annot=True, fmt='d', cmap='Blues', xticklabels=model.classes_, yticklabels=model.classes_)\n",
    "plt.xlabel('Predicted')\n",
    "plt.ylabel('Actual')\n",
    "plt.title('Confusion Matrix')\n",
    "plt.show()"
   ]
  },
  {
   "cell_type": "code",
   "execution_count": 15,
   "id": "ea93edfd",
   "metadata": {},
   "outputs": [
    {
     "name": "stdout",
     "output_type": "stream",
     "text": [
      "\n",
      "Model and vectorizer have been saved as 'expense_model.joblib' and 'tfidf_vectorizer.joblib'\n"
     ]
    }
   ],
   "source": [
    "# Save the Model and Vectorizer \n",
    "joblib.dump(model, 'expense_model.joblib')\n",
    "joblib.dump(tfidf_vectorizer, 'tfidf_vectorizer.joblib')\n",
    "\n",
    "print(\"\\nModel and vectorizer have been saved as 'expense_model.joblib' and 'tfidf_vectorizer.joblib'\")"
   ]
  },
  {
   "cell_type": "code",
   "execution_count": 26,
   "id": "9b5075ba",
   "metadata": {},
   "outputs": [],
   "source": [
    "# Prediction Function Example \n",
    "def predict_category(transaction_text):\n",
    "    \n",
    "    \"\"\" Predicts the category for a new transaction text.\"\"\"\n",
    "    # Load the saved model and vectorizer\n",
    "    loaded_model = joblib.load('expense_model.joblib')\n",
    "    loaded_vectorizer = joblib.load('tfidf_vectorizer.joblib')\n",
    "    \n",
    "    # Clean the input text\n",
    "    cleaned_text = clean_text(transaction_text)\n",
    "    \n",
    "    # Vectorize the text using the loaded vectorizer\n",
    "    text_vectorized = loaded_vectorizer.transform([cleaned_text])\n",
    "    \n",
    "    # Predict the category\n",
    "    prediction = loaded_model.predict(text_vectorized)\n",
    "    \n",
    "    return prediction[0]"
   ]
  },
  {
   "cell_type": "code",
   "execution_count": 27,
   "id": "a571a08c",
   "metadata": {},
   "outputs": [
    {
     "name": "stdout",
     "output_type": "stream",
     "text": [
      "\n",
      "Testing the prediction function\n",
      "'uber ride home 230' is categorized as: Travel\n",
      "'dinner at paradise hotel' is categorized as: Food & Dining\n"
     ]
    }
   ],
   "source": [
    "# Example Usage \n",
    "print(\"\\nTesting the prediction function\")\n",
    "new_transaction_1 = \"uber ride home 230\"\n",
    "new_transaction_2 = \"dinner at paradise hotel\"\n",
    "new_transaction_3 = \"grocery shopping at walmart\"\n",
    "\n",
    "def clean_text(text):\n",
    "    text = text.lower()                           # 1. Lowercase text\n",
    "    text = re.sub(r'\\d+', '', text)               # 2. Remove numbers\n",
    "    text = re.sub(r'\\s+', ' ', text)              # 3. Replace multiple spaces with one\n",
    "    text = text.strip()                           # 4. Remove leading/trailing spaces\n",
    "    return text\n",
    "print(f\"'{new_transaction_1}' is categorized as: {predict_category(new_transaction_1)}\")\n",
    "print(f\"'{new_transaction_2}' is categorized as: {predict_category(new_transaction_2)}\")"
   ]
  }
 ],
 "metadata": {
  "kernelspec": {
   "display_name": "Python 3",
   "language": "python",
   "name": "python3"
  },
  "language_info": {
   "codemirror_mode": {
    "name": "ipython",
    "version": 3
   },
   "file_extension": ".py",
   "mimetype": "text/x-python",
   "name": "python",
   "nbconvert_exporter": "python",
   "pygments_lexer": "ipython3",
   "version": "3.12.6"
  }
 },
 "nbformat": 4,
 "nbformat_minor": 5
}
